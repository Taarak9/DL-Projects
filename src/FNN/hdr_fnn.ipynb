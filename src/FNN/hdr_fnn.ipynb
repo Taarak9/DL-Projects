{
  "nbformat": 4,
  "nbformat_minor": 0,
  "metadata": {
    "colab": {
      "name": "hdr_fnn",
      "provenance": []
    },
    "kernelspec": {
      "name": "python3",
      "display_name": "Python 3"
    },
    "language_info": {
      "name": "python"
    }
  },
  "cells": [
    {
      "cell_type": "code",
      "metadata": {
        "id": "87OpXzM4Plxw"
      },
      "source": [
        "from generalized_fnn import FNN\n",
        "from mnist_loader import load_data_wrapper "
      ],
      "execution_count": 2,
      "outputs": []
    },
    {
      "cell_type": "code",
      "metadata": {
        "id": "mIpuo0Kcb123"
      },
      "source": [
        "# MNIST data split\n",
        "training_data, validation_data, test_data = load_data_wrapper()"
      ],
      "execution_count": 3,
      "outputs": []
    },
    {
      "cell_type": "code",
      "metadata": {
        "id": "uSEXrPTz-fqC"
      },
      "source": [
        "# handwritten digit recognizer \n",
        "# Loss function: Cross Entropy\n",
        "hdr = FNN(784, \"ce\")\n",
        "hdr.add_layer(80, \"sigmoid\")\n",
        "hdr.add_layer(10, \"sigmoid\")"
      ],
      "execution_count": 4,
      "outputs": []
    },
    {
      "cell_type": "code",
      "metadata": {
        "id": "8v42dOnKWUKS",
        "colab": {
          "base_uri": "https://localhost:8080/"
        },
        "outputId": "df56b96d-d992-46d7-89f2-6d2353d64a5c"
      },
      "source": [
        "# Trained for 30 epochs using Stochastic Gradient Descent (mini-batch size = 10 and learning_rate = 3)\n",
        "# Displaying Test results\n",
        "hdr.SGD(training_data, 30, 10, 3.0, test_data=test_data, task=\"classification\")"
      ],
      "execution_count": 5,
      "outputs": [
        {
          "output_type": "stream",
          "text": [
            "Epoch:  0 Accuracy:  94.56\n",
            "Epoch:  1 Accuracy:  95.92\n",
            "Epoch:  2 Accuracy:  96.34\n",
            "Epoch:  3 Accuracy:  96.8\n",
            "Epoch:  4 Accuracy:  96.78\n",
            "Epoch:  5 Accuracy:  97.09\n",
            "Epoch:  6 Accuracy:  97.15\n",
            "Epoch:  7 Accuracy:  97.37\n",
            "Epoch:  8 Accuracy:  97.26\n",
            "Epoch:  9 Accuracy:  97.39999999999999\n",
            "Epoch:  10 Accuracy:  97.53\n",
            "Epoch:  11 Accuracy:  97.22\n",
            "Epoch:  12 Accuracy:  97.42\n",
            "Epoch:  13 Accuracy:  97.26\n",
            "Epoch:  14 Accuracy:  97.25\n",
            "Epoch:  15 Accuracy:  97.28999999999999\n",
            "Epoch:  16 Accuracy:  97.33000000000001\n",
            "Epoch:  17 Accuracy:  97.43\n",
            "Epoch:  18 Accuracy:  97.45\n",
            "Epoch:  19 Accuracy:  97.39999999999999\n",
            "Epoch:  20 Accuracy:  97.36\n",
            "Epoch:  21 Accuracy:  97.38\n",
            "Epoch:  22 Accuracy:  97.35000000000001\n",
            "Epoch:  23 Accuracy:  97.49\n",
            "Epoch:  24 Accuracy:  97.5\n",
            "Epoch:  25 Accuracy:  97.31\n",
            "Epoch:  26 Accuracy:  97.39999999999999\n",
            "Epoch:  27 Accuracy:  97.47\n",
            "Epoch:  28 Accuracy:  97.45\n",
            "Epoch:  29 Accuracy:  97.49\n",
            "Max accuracy achieved:  97.53 at epoch  10\n"
          ],
          "name": "stdout"
        }
      ]
    },
    {
      "cell_type": "code",
      "metadata": {
        "colab": {
          "base_uri": "https://localhost:8080/",
          "height": 279
        },
        "id": "Xa1nhTJMB5XG",
        "outputId": "51933c1b-c022-4bfc-d5a0-6b5a45aaaed2"
      },
      "source": [
        "# epoch vs error graph\n",
        "hdr.logging(test_data)"
      ],
      "execution_count": 6,
      "outputs": [
        {
          "output_type": "display_data",
          "data": {
            "image/png": "[encoded data removed]",
            "text/plain": [
              "<Figure size 432x288 with 1 Axes>"
            ]
          },
          "metadata": {
            "tags": [],
            "needs_background": "light"
          }
        }
      ]
    }
  ]
}